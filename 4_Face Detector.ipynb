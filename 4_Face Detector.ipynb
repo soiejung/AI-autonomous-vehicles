{
 "cells": [
  {
   "cell_type": "code",
   "execution_count": null,
   "id": "a66f48cd",
   "metadata": {},
   "outputs": [],
   "source": [
    "pip install --upgrade RobokitRS"
   ]
  },
  {
   "cell_type": "code",
   "execution_count": null,
   "id": "c52f6538",
   "metadata": {},
   "outputs": [],
   "source": [
    "pip install RoboCam"
   ]
  },
  {
   "cell_type": "code",
   "execution_count": null,
   "id": "8c545a9b",
   "metadata": {},
   "outputs": [],
   "source": [
    "pip install numpy"
   ]
  },
  {
   "cell_type": "code",
   "execution_count": null,
   "id": "e251a167",
   "metadata": {},
   "outputs": [],
   "source": [
    "pip install opencv-contrib-python"
   ]
  },
  {
   "cell_type": "code",
   "execution_count": null,
   "id": "2d2280a7",
   "metadata": {},
   "outputs": [],
   "source": [
    "pip install tensorflow"
   ]
  },
  {
   "cell_type": "code",
   "execution_count": null,
   "id": "e6801cc3",
   "metadata": {},
   "outputs": [],
   "source": [
    "pip install tflite"
   ]
  },
  {
   "cell_type": "code",
   "execution_count": 1,
   "id": "94bc653a",
   "metadata": {},
   "outputs": [
    {
     "name": "stdout",
     "output_type": "stream",
     "text": [
      "camera module ready\n",
      "C:\\Users\\KRX\\anaconda3\\lib\\site-packages\\RobokitRS\\pins\n",
      "RSBoard serial port opend\n",
      "Thread init done\n",
      "Pin mode init done\n",
      "Sysex init done\n",
      "RSBoard init done\n"
     ]
    },
    {
     "data": {
      "text/plain": [
       "True"
      ]
     },
     "execution_count": 1,
     "metadata": {},
     "output_type": "execute_result"
    }
   ],
   "source": [
    "from RoboCam.robocam import *\n",
    "from RobokitRS.RobokitRS import *\n",
    "import time as t\n",
    "\n",
    "rCam = RoboCam()\n",
    "rs = RobokitRS()\n",
    "rs.port_open(\"COM7\")"
   ]
  },
  {
   "cell_type": "code",
   "execution_count": 2,
   "id": "cd343fd9",
   "metadata": {},
   "outputs": [
    {
     "name": "stdout",
     "output_type": "stream",
     "text": [
      "camera stream ready\n",
      "camera event module ready\n"
     ]
    }
   ],
   "source": [
    "rCam.CameraStreamInit()\n",
    "rCam.CameraStream()"
   ]
  },
  {
   "cell_type": "code",
   "execution_count": 3,
   "id": "8f8ae761",
   "metadata": {},
   "outputs": [
    {
     "name": "stdout",
     "output_type": "stream",
     "text": [
      "Aruco detector initialized\n"
     ]
    }
   ],
   "source": [
    "rCam.ArucoDetectorInit()\n",
    "rCam.ArucoDetectorStart()"
   ]
  },
  {
   "cell_type": "code",
   "execution_count": 4,
   "id": "10b757fe",
   "metadata": {},
   "outputs": [],
   "source": [
    "def forward():\n",
    "    rs.motor_write(0,1,3.1)\n",
    "    rs.motor_write(1,0,2)\n",
    "    rs.motor_write(2,1,3.2)\n",
    "    rs.motor_write(3,0,2)\n",
    "\n",
    "    \n",
    "    \n",
    "def stop():\n",
    "    rs.motor_write(0,1,0)\n",
    "    rs.motor_write(1,0,0)\n",
    "    rs.motor_write(2,1,0)\n",
    "    rs.motor_write(3,0,0)\n",
    "    t.sleep(0.1)\n",
    "    \n",
    "def reverse():\n",
    "    rs.motor_write(0,0,3.1)\n",
    "    rs.motor_write(1,1,2)\n",
    "    rs.motor_write(2,0,3.2)\n",
    "    rs.motor_write(3,1,2)\n",
    "    \n",
    "def right():\n",
    "    rs.motor_write(0,1,10.2)\n",
    "    rs.motor_write(1,1,10)\n",
    "    rs.motor_write(2,0,10.2)\n",
    "    rs.motor_write(3,0,10)\n",
    "\n",
    "    \n",
    "def left():\n",
    "    rs.motor_write(0,0,10.2)\n",
    "    rs.motor_write(1,0,10)\n",
    "    rs.motor_write(2,1,10.2)\n",
    "    rs.motor_write(3,1,10)\n",
    "\n",
    "def left_turn():\n",
    "    rs.motor_write(0,0,10)\n",
    "    rs.motor_write(1,0,10.2)\n",
    "    rs.motor_write(2,0,10)\n",
    "    rs.motor_write(3,0,10.2)\n",
    "   \n",
    "    \n",
    "def right_turn():\n",
    "    rs.motor_write(0,1,10.2)\n",
    "    rs.motor_write(1,1,10)\n",
    "    rs.motor_write(2,1,10.2)\n",
    "    rs.motor_write(3,1,10)\n",
    " \n",
    "    \n",
    "def front_left(num):\n",
    "    rs.motor_write(1,0,10)\n",
    "    rs.motor_write(2,1,10.2) \n",
    "    t.sleep(num)\n",
    "    \n",
    "def front_right(num):\n",
    "    rs.motor_write(0,1,10.2)\n",
    "    rs.motor_write(3,0,10)\n",
    "    t.sleep(num)\n",
    "    \n",
    "def L_turn():\n",
    "    rs.motor_write(0,0,0)\n",
    "    rs.motor_write(1,0,15)\n",
    "    rs.motor_write(2,0,0)\n",
    "    rs.motor_write(3,0,15)\n",
    "    \n",
    "    \n",
    "def R_turn():\n",
    "    rs.motor_write(0,1,15)\n",
    "    rs.motor_write(1,1,0)\n",
    "    rs.motor_write(2,1,15)\n",
    "    rs.motor_write(3,1,0)\n",
    "    "
   ]
  },
  {
   "cell_type": "code",
   "execution_count": null,
   "id": "eb347021",
   "metadata": {},
   "outputs": [],
   "source": [
    "i=0\n",
    "id = rCam.GetArucoId()\n",
    "print(id)\n",
    "for i in range(20):\n",
    "    t.sleep(0.2)\n",
    "    distance = rCam.GetArucoDistance(id)\n",
    "    print(distance)\n",
    "    \n",
    "    try:\n",
    "        \n",
    "        if distance >20:\n",
    "            forward()\n",
    "            t.sleep(0.5)\n",
    "            stop()\n",
    "            \n",
    "        elif distance < 20:\n",
    "            reverse()\n",
    "            t.sleep(0.5)\n",
    "            stop()\n",
    "            \n",
    "    except:\n",
    "            pass\n",
    "        \n",
    "    finally:\n",
    "            stop()\n",
    "        \n"
   ]
  },
  {
   "cell_type": "code",
   "execution_count": null,
   "id": "bc22279d",
   "metadata": {},
   "outputs": [],
   "source": [
    "stop()"
   ]
  },
  {
   "cell_type": "code",
   "execution_count": 5,
   "id": "ca83ca8e",
   "metadata": {},
   "outputs": [
    {
     "name": "stdout",
     "output_type": "stream",
     "text": [
      "Camera stream is aready initialized.\n",
      "The camera is already working.\n"
     ]
    }
   ],
   "source": [
    "#이미지 감지 시작\n",
    "rCam.CameraStreamInit(512,512)\n",
    "rCam.CameraStream()"
   ]
  },
  {
   "cell_type": "code",
   "execution_count": 6,
   "id": "b6197920",
   "metadata": {},
   "outputs": [
    {
     "name": "stdout",
     "output_type": "stream",
     "text": [
      "Sketch detector initialized\n"
     ]
    }
   ],
   "source": [
    "rCam.SketchDetectorInit()\n",
    "rCam.SketchDetectorStart()"
   ]
  },
  {
   "cell_type": "code",
   "execution_count": 9,
   "id": "960eb9ad",
   "metadata": {},
   "outputs": [
    {
     "name": "stdout",
     "output_type": "stream",
     "text": [
      "==========\n",
      "사용할 기능을 입력해주세요\n",
      "1) capture\n",
      "2) train\n",
      "3) delete\n",
      "입력해주세요: capture\n",
      "저장할 이름을 입력해주세요: left\n",
      "left  is saved\n",
      "==========\n",
      "사용할 기능을 입력해주세요\n",
      "1) capture\n",
      "2) train\n",
      "3) delete\n",
      "입력해주세요: capture\n",
      "저장할 이름을 입력해주세요: stop\n",
      "stop  is saved\n",
      "==========\n",
      "사용할 기능을 입력해주세요\n",
      "1) capture\n",
      "2) train\n",
      "3) delete\n",
      "입력해주세요: capture\n",
      "저장할 이름을 입력해주세요: right\n",
      "right  is saved\n",
      "==========\n",
      "사용할 기능을 입력해주세요\n",
      "1) capture\n",
      "2) train\n",
      "3) delete\n",
      "입력해주세요: train\n"
     ]
    }
   ],
   "source": [
    " for i in range(4):\n",
    "    print(\"==========\")\n",
    "    print(\"사용할 기능을 입력해주세요\")\n",
    "    print(\"1) capture\")\n",
    "    print(\"2) train\")\n",
    "    print(\"3) delete\")\n",
    "    \n",
    "    ins = input(\"입력해주세요: \")\n",
    "    \n",
    "    if ins == \"train\":\n",
    "        rCam.TrainSketchData()\n",
    "    \n",
    "    elif ins == \"capture\":\n",
    "        var = input(\"저장할 이름을 입력해주세요: \")\n",
    "        rCam.SketchCapture(var, captureCount=5)\n",
    "        \n",
    "    elif ins == \"delete\":\n",
    "        var = input(\"삭제할 이름을 입력해주세요: \")\n",
    "        rCam.DeleteSketchData(var)\n",
    "    else:\n",
    "        print(\"잘못된 명령어입니다. 다시 입력해주세요\")\n",
    "        "
   ]
  },
  {
   "cell_type": "code",
   "execution_count": 13,
   "id": "75bddc85",
   "metadata": {},
   "outputs": [
    {
     "name": "stdout",
     "output_type": "stream",
     "text": [
      "['left']\n",
      "None\n",
      "None\n",
      "None\n",
      "None\n",
      "None\n",
      "['left']\n",
      "None\n",
      "['left']\n",
      "None\n",
      "None\n",
      "None\n",
      "None\n",
      "None\n",
      "['left']\n",
      "None\n",
      "None\n",
      "None\n",
      "None\n",
      "None\n"
     ]
    }
   ],
   "source": [
    "\n",
    "for i in range(20):\n",
    "    \n",
    "    temp = rCam.GetSketchNames()\n",
    "   \n",
    "    print(temp)\n",
    "    t.sleep(0.2)\n",
    "    try:\n",
    "        \n",
    "        if  temp == ['left']:\n",
    "            left_turn()\n",
    "            t.sleep(0.5)\n",
    "    \n",
    "            \n",
    "        elif temp == ['right']:\n",
    "            right_turn()\n",
    "            t.sleep(0.5)\n",
    "\n",
    "            \n",
    "        elif temp == ['stop']:\n",
    "            stop()\n",
    "            \n",
    "    except:\n",
    "            pass\n",
    "        \n",
    "    finally:\n",
    "            stop()\n",
    "        \n"
   ]
  },
  {
   "cell_type": "code",
   "execution_count": 21,
   "id": "55d16fb8",
   "metadata": {},
   "outputs": [
    {
     "name": "stdout",
     "output_type": "stream",
     "text": [
      "56\n",
      "56\n",
      "53\n",
      "46\n",
      "41\n",
      "35\n",
      "33\n",
      "22\n",
      "22\n",
      "['left']\n",
      "21\n",
      "21\n",
      "None\n",
      "0\n",
      "508\n",
      "508\n",
      "508\n",
      "508\n",
      "508\n",
      "47\n",
      "84\n",
      "508\n",
      "508\n",
      "508\n",
      "85\n",
      "84\n",
      "131\n",
      "508\n",
      "508\n",
      "508\n",
      "127\n",
      "49\n",
      "56\n",
      "54\n",
      "50\n",
      "45\n",
      "39\n",
      "34\n",
      "28\n",
      "22\n",
      "22\n",
      "['left']\n",
      "19\n",
      "19\n",
      "None\n",
      "1\n",
      "22\n",
      "22\n",
      "None\n",
      "2\n",
      "22\n",
      "22\n",
      "None\n",
      "3\n",
      "25\n",
      "61\n",
      "59\n",
      "52\n",
      "47\n",
      "41\n",
      "35\n",
      "29\n",
      "24\n",
      "24\n",
      "['left']\n",
      "40\n",
      "27\n",
      "61\n",
      "62\n",
      "61\n",
      "56\n",
      "59\n",
      "61\n",
      "33\n",
      "31\n",
      "24\n",
      "24\n",
      "['stop']\n"
     ]
    }
   ],
   "source": [
    "i = 0\n",
    "try:\n",
    "    rs.sonar_begin(13)\n",
    "    while True:\n",
    "        SONAR = rs.sonar_read(13)\n",
    "        t.sleep(1)\n",
    "        print(SONAR)\n",
    "        forward()\n",
    "        if 10<SONAR and SONAR < 25:\n",
    "            print(SONAR)\n",
    "            stop()\n",
    "            t.sleep(1)\n",
    "            \n",
    "            temp = rCam.GetSketchNames()\n",
    "            print(temp)\n",
    "            t.sleep(0.2)\n",
    "    \n",
    "            try: \n",
    "                if temp == None:\n",
    "                    if i < 10:\n",
    "                        print(i)\n",
    "                        t.sleep(1)\n",
    "                        i += 1\n",
    "                        continue\n",
    "                    break\n",
    "                        \n",
    "                elif  temp == ['left']:\n",
    "                    left_turn()\n",
    "                    t.sleep(1)\n",
    "    \n",
    "            \n",
    "                elif temp == ['right']:\n",
    "                    right_turn()\n",
    "                    t.sleep(1)\n",
    "\n",
    "            \n",
    "                elif temp == ['stop']:\n",
    "                    stop()\n",
    "                    break;\n",
    "\n",
    "    \n",
    "            except:\n",
    "                    pass\n",
    "        \n",
    "            finally:\n",
    "                    stop()\n",
    "finally:\n",
    "    stop()"
   ]
  },
  {
   "cell_type": "code",
   "execution_count": null,
   "id": "ebb9d8de",
   "metadata": {},
   "outputs": [],
   "source": []
  }
 ],
 "metadata": {
  "kernelspec": {
   "display_name": "Python 3 (ipykernel)",
   "language": "python",
   "name": "python3"
  },
  "language_info": {
   "codemirror_mode": {
    "name": "ipython",
    "version": 3
   },
   "file_extension": ".py",
   "mimetype": "text/x-python",
   "name": "python",
   "nbconvert_exporter": "python",
   "pygments_lexer": "ipython3",
   "version": "3.9.13"
  }
 },
 "nbformat": 4,
 "nbformat_minor": 5
}
