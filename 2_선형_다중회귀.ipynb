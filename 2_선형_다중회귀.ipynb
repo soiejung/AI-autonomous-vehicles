{
 "cells": [
  {
   "cell_type": "code",
   "execution_count": 1,
   "id": "3ad149f7",
   "metadata": {},
   "outputs": [],
   "source": [
    "seconds = [0.1, 0.2, 0.3, 0.4, 0.5, 0.6, 0.7, 0.8]\n",
    "distance = [0.9, 1.9, 3.3, 4.5, 5.9, 7, 8, 9]"
   ]
  },
  {
   "cell_type": "code",
   "execution_count": 2,
   "id": "1a8f77f4",
   "metadata": {},
   "outputs": [],
   "source": [
    "assert len(seconds) == len(distance)"
   ]
  },
  {
   "cell_type": "code",
   "execution_count": 3,
   "id": "e37d767d",
   "metadata": {},
   "outputs": [
    {
     "data": {
      "text/plain": [
       "<AxesSubplot:>"
      ]
     },
     "execution_count": 3,
     "metadata": {},
     "output_type": "execute_result"
    },
    {
     "data": {
      "image/png": "[encoded data removed]",
      "text/plain": [
       "<Figure size 640x480 with 1 Axes>"
      ]
     },
     "metadata": {},
     "output_type": "display_data"
    }
   ],
   "source": [
    "import seaborn as sns\n",
    "sns.regplot(x=seconds, y=distance)"
   ]
  },
  {
   "cell_type": "code",
   "execution_count": 4,
   "id": "cd23935e",
   "metadata": {},
   "outputs": [
    {
     "data": {
      "text/plain": [
       "array([0.1, 0.2, 0.3, 0.4, 0.5, 0.6, 0.7, 0.8])"
      ]
     },
     "execution_count": 4,
     "metadata": {},
     "output_type": "execute_result"
    }
   ],
   "source": [
    "import numpy as np\n",
    "from sklearn.linear_model import LinearRegression\n",
    "seconds = np.array(seconds)\n",
    "seconds"
   ]
  },
  {
   "cell_type": "code",
   "execution_count": 5,
   "id": "31969a25",
   "metadata": {},
   "outputs": [
    {
     "data": {
      "text/plain": [
       "array([[0.1],\n",
       "       [0.2],\n",
       "       [0.3],\n",
       "       [0.4],\n",
       "       [0.5],\n",
       "       [0.6],\n",
       "       [0.7],\n",
       "       [0.8]])"
      ]
     },
     "execution_count": 5,
     "metadata": {},
     "output_type": "execute_result"
    }
   ],
   "source": [
    "seconds = seconds.reshape(-1,1)\n",
    "seconds"
   ]
  },
  {
   "cell_type": "code",
   "execution_count": 7,
   "id": "b27eccd3",
   "metadata": {},
   "outputs": [
    {
     "data": {
      "text/plain": [
       "LinearRegression()"
      ]
     },
     "execution_count": 7,
     "metadata": {},
     "output_type": "execute_result"
    }
   ],
   "source": [
    "model = LinearRegression()\n",
    "model.fit(seconds, distance)"
   ]
  },
  {
   "cell_type": "code",
   "execution_count": 8,
   "id": "2532aa00",
   "metadata": {},
   "outputs": [
    {
     "data": {
      "text/plain": [
       "0.9971090119180532"
      ]
     },
     "execution_count": 8,
     "metadata": {},
     "output_type": "execute_result"
    }
   ],
   "source": [
    "model.score(seconds, distance)"
   ]
  },
  {
   "cell_type": "code",
   "execution_count": 9,
   "id": "1ad7d597",
   "metadata": {},
   "outputs": [
    {
     "data": {
      "text/plain": [
       "array([11.86904762])"
      ]
     },
     "execution_count": 9,
     "metadata": {},
     "output_type": "execute_result"
    }
   ],
   "source": [
    "model.coef_"
   ]
  },
  {
   "cell_type": "code",
   "execution_count": 10,
   "id": "21a3c427",
   "metadata": {},
   "outputs": [
    {
     "data": {
      "text/plain": [
       "-0.27857142857143113"
      ]
     },
     "execution_count": 10,
     "metadata": {},
     "output_type": "execute_result"
    }
   ],
   "source": [
    "model.intercept_"
   ]
  },
  {
   "cell_type": "code",
   "execution_count": 15,
   "id": "cace798e",
   "metadata": {},
   "outputs": [
    {
     "data": {
      "text/plain": [
       "array([23.45952381])"
      ]
     },
     "execution_count": 15,
     "metadata": {},
     "output_type": "execute_result"
    }
   ],
   "source": [
    "model.predict([[2]])"
   ]
  },
  {
   "cell_type": "code",
   "execution_count": 16,
   "id": "d781c849",
   "metadata": {},
   "outputs": [
    {
     "data": {
      "text/plain": [
       "array([7.43771314])"
      ]
     },
     "execution_count": 16,
     "metadata": {},
     "output_type": "execute_result"
    }
   ],
   "source": [
    "distance = 88\n",
    "seconds = (distance - model.intercept_)/model.coef_\n",
    "seconds"
   ]
  },
  {
   "cell_type": "code",
   "execution_count": 21,
   "id": "22ac8cb6",
   "metadata": {},
   "outputs": [],
   "source": [
    "sv = [[0.1, 10], [0.2, 10],[0.3,10],[0.4,10],[0.5,10],[0.6,10],[0.7,10],[0.8,10],[0.9,10],[1.0,10],[1.1,10],[1.2,10], [1.3,10], [1.4,10], [1.5,10],[1.6,10],[1.7,10],[1.8,10], [1.9,10],[2.0,10], [0.1,15], [0.2,15], [0.3,15], [0.4,15]]\n",
    "distance = [0.4, 2, 3.1, 4.1, 5.2, 7.3, 8.2, 9.2, 9.9, 11.2, 12.7, 13.8, 14.6, 16.3, 17.4, 18.4, 19.4, 20.8, 21.8, 23.2, 0.9, 1.9, 3.3, 4.5]"
   ]
  },
  {
   "cell_type": "code",
   "execution_count": 22,
   "id": "9dc0bd67",
   "metadata": {},
   "outputs": [
    {
     "data": {
      "text/plain": [
       "array([[ 0.1, 10. ],\n",
       "       [ 0.2, 10. ],\n",
       "       [ 0.3, 10. ],\n",
       "       [ 0.4, 10. ],\n",
       "       [ 0.5, 10. ],\n",
       "       [ 0.6, 10. ],\n",
       "       [ 0.7, 10. ],\n",
       "       [ 0.8, 10. ],\n",
       "       [ 0.9, 10. ],\n",
       "       [ 1. , 10. ],\n",
       "       [ 1.1, 10. ],\n",
       "       [ 1.2, 10. ],\n",
       "       [ 1.3, 10. ],\n",
       "       [ 1.4, 10. ],\n",
       "       [ 1.5, 10. ],\n",
       "       [ 1.6, 10. ],\n",
       "       [ 1.7, 10. ],\n",
       "       [ 1.8, 10. ],\n",
       "       [ 1.9, 10. ],\n",
       "       [ 2. , 10. ],\n",
       "       [ 0.1, 15. ],\n",
       "       [ 0.2, 15. ],\n",
       "       [ 0.3, 15. ],\n",
       "       [ 0.4, 15. ]])"
      ]
     },
     "execution_count": 22,
     "metadata": {},
     "output_type": "execute_result"
    }
   ],
   "source": [
    "sv = np.array(sv)\n",
    "sv"
   ]
  },
  {
   "cell_type": "code",
   "execution_count": 19,
   "id": "1fb4b5a1",
   "metadata": {},
   "outputs": [
    {
     "data": {
      "text/plain": [
       "array([[ 0.1, 10. ],\n",
       "       [ 0.2, 10. ],\n",
       "       [ 0.3, 10. ],\n",
       "       [ 0.4, 10. ],\n",
       "       [ 0.5, 10. ],\n",
       "       [ 0.6, 10. ],\n",
       "       [ 0.7, 10. ],\n",
       "       [ 0.8, 10. ],\n",
       "       [ 0.9, 10. ],\n",
       "       [ 1. , 10. ],\n",
       "       [ 1.1, 10. ],\n",
       "       [ 1.2, 10. ],\n",
       "       [ 1.3, 10. ],\n",
       "       [ 1.4, 10. ],\n",
       "       [ 1.5, 10. ],\n",
       "       [ 1.6, 10. ],\n",
       "       [ 1.7, 10. ],\n",
       "       [ 1.8, 10. ],\n",
       "       [ 1.9, 10. ],\n",
       "       [ 2. , 10. ]])"
      ]
     },
     "execution_count": 19,
     "metadata": {},
     "output_type": "execute_result"
    }
   ],
   "source": [
    "sv1 = sv.reshape(-1,2)\n",
    "sv1"
   ]
  },
  {
   "cell_type": "code",
   "execution_count": 23,
   "id": "c38bb3f0",
   "metadata": {},
   "outputs": [],
   "source": [
    "assert len(sv)==len(distance)"
   ]
  },
  {
   "cell_type": "code",
   "execution_count": 27,
   "id": "d5218638",
   "metadata": {},
   "outputs": [],
   "source": [
    "import matplotlib.pyplot as plt\n",
    "from mpl_toolkits.mplot3d import Axes3D"
   ]
  },
  {
   "cell_type": "code",
   "execution_count": 28,
   "id": "3e81cd8c",
   "metadata": {},
   "outputs": [],
   "source": [
    "distance = np.array(distance)"
   ]
  },
  {
   "cell_type": "code",
   "execution_count": 30,
   "id": "c10035df",
   "metadata": {},
   "outputs": [
    {
     "data": {
      "image/png": "[encoded data removed]",
      "text/plain": [
       "<Figure size 640x480 with 1 Axes>"
      ]
     },
     "metadata": {},
     "output_type": "display_data"
    }
   ],
   "source": [
    "seaborn_plot = plt.axes(projection='3d')\n",
    "seaborn_plot.scatter3D(sv[:,0], sv[:,1], distance)\n",
    "seaborn_plot.set_xlabel('seconds')\n",
    "seaborn_plot.set_ylabel('velocity')\n",
    "seaborn_plot.set_zlabel('distance')\n",
    "plt.show()"
   ]
  },
  {
   "cell_type": "code",
   "execution_count": 31,
   "id": "5527317f",
   "metadata": {},
   "outputs": [
    {
     "data": {
      "text/plain": [
       "LinearRegression()"
      ]
     },
     "execution_count": 31,
     "metadata": {},
     "output_type": "execute_result"
    }
   ],
   "source": [
    "model1 = LinearRegression()\n",
    "model1.fit(sv,distance)"
   ]
  },
  {
   "cell_type": "code",
   "execution_count": 34,
   "id": "278695f9",
   "metadata": {},
   "outputs": [
    {
     "data": {
      "text/plain": [
       "0.9989717693062785"
      ]
     },
     "execution_count": 34,
     "metadata": {},
     "output_type": "execute_result"
    }
   ],
   "source": [
    "model1.score(sv,distance)"
   ]
  },
  {
   "cell_type": "code",
   "execution_count": 35,
   "id": "38cac8be",
   "metadata": {},
   "outputs": [
    {
     "data": {
      "text/plain": [
       "array([11.78656716,  0.02585075])"
      ]
     },
     "execution_count": 35,
     "metadata": {},
     "output_type": "execute_result"
    }
   ],
   "source": [
    "model1.coef_"
   ]
  },
  {
   "cell_type": "code",
   "execution_count": 38,
   "id": "a7e14c16",
   "metadata": {},
   "outputs": [
    {
     "data": {
      "text/plain": [
       "-0.6844029850746267"
      ]
     },
     "execution_count": 38,
     "metadata": {},
     "output_type": "execute_result"
    }
   ],
   "source": [
    "model1.intercept_"
   ]
  },
  {
   "cell_type": "code",
   "execution_count": 40,
   "id": "3bb5650e",
   "metadata": {},
   "outputs": [
    {
     "data": {
      "text/plain": [
       "array([46.72037313])"
      ]
     },
     "execution_count": 40,
     "metadata": {},
     "output_type": "execute_result"
    }
   ],
   "source": [
    "model1.predict([[4,10]])"
   ]
  },
  {
   "cell_type": "code",
   "execution_count": 41,
   "id": "a468a8be",
   "metadata": {},
   "outputs": [
    {
     "data": {
      "text/plain": [
       "array([46.84962687])"
      ]
     },
     "execution_count": 41,
     "metadata": {},
     "output_type": "execute_result"
    }
   ],
   "source": [
    "model1.predict([[4,15]])"
   ]
  },
  {
   "cell_type": "code",
   "execution_count": 66,
   "id": "19c2ea2e",
   "metadata": {},
   "outputs": [
    {
     "data": {
      "text/plain": [
       "1.6476437706904974"
      ]
     },
     "execution_count": 66,
     "metadata": {},
     "output_type": "execute_result"
    }
   ],
   "source": [
    "x1 = model1.coef_[0]\n",
    "x2 = model1.coef_[1]\n",
    "distance = 19.4\n",
    "speed = 10\n",
    "seconds = (distance-speed*x2-model.intercept_)/x1\n",
    "seconds"
   ]
  },
  {
   "cell_type": "code",
   "execution_count": null,
   "id": "d456a526",
   "metadata": {},
   "outputs": [],
   "source": []
  }
 ],
 "metadata": {
  "kernelspec": {
   "display_name": "Python 3 (ipykernel)",
   "language": "python",
   "name": "python3"
  },
  "language_info": {
   "codemirror_mode": {
    "name": "ipython",
    "version": 3
   },
   "file_extension": ".py",
   "mimetype": "text/x-python",
   "name": "python",
   "nbconvert_exporter": "python",
   "pygments_lexer": "ipython3",
   "version": "3.9.13"
  }
 },
 "nbformat": 4,
 "nbformat_minor": 5
}
